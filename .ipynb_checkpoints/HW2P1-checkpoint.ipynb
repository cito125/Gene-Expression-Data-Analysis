{
 "cells": [
  {
   "cell_type": "markdown",
   "metadata": {},
   "source": [
    "### Homework 2: More Exploratory Data Analysis\n",
    "## Gene Expression Data and Election Polls \n",
    "\n",
    "Due: Thursday, September 29, 2016 11:59 PM\n",
    "\n",
    "\n",
    "#### Submission Instructions\n",
    "To submit your homework, create a folder named **lastname_firstinitial_hw#** and place your IPython notebooks, data files, and any other files in this folder. Your IPython Notebooks should be completely executed with the results visible in the notebook. We should not have to run any code. Make sure to share the private repo with my github account (mdog) and submit the repo path through blackboard.\n",
    "\n",
    "---"
   ]
  },
  {
   "cell_type": "markdown",
   "metadata": {},
   "source": [
    "## Introduction\n",
    "\n",
    "John Tukey wrote in [Exploratory Data Analysis, 1977](http://www.amazon.com/Exploratory-Data-Analysis-Wilder-Tukey/dp/0201076160/ref=pd_bbs_sr_2/103-4466654-5303007?ie=UTF8&s=books&qid=1189739816&sr=8-2): \"The greatest value of a picture is when it forces us to notice what we never expected to see.\" In this assignment we will continue using our exploratory data analysis tools, but apply it to new sets of data: [gene expression](http://en.wikipedia.org/wiki/Gene_expression) and polls from the [2012 Presidental Election](http://en.wikipedia.org/wiki/United_States_presidential_election,_2012) and from the [2014 Senate Midterm Elections](http://en.wikipedia.org/wiki/United_States_Senate_elections,_2014).   \n",
    "\n",
    "**First**: You will use exploratory data analysis and apply the [singular value decomposition](http://en.wikipedia.org/wiki/Singular_value_decomposition) (SVD) to a gene expression data matrix to determine if the the date that the gene expression samples are processed has large effect on the variability seen in the data.  \n",
    "\n",
    "**Second**: You will use the polls from the 2012 Presidential Elections to determine (1) Is there a pollster bias in presidential election polls? and (2) Is the average of polls better than just one poll?\n",
    "\n",
    "**Finally**: You will use the [HuffPost Pollster API](http://elections.huffingtonpost.com/pollster/api) to extract the polls for the current 2014 Senate Midterm Elections and provide a preliminary prediction of the result of each state.\n",
    "\n",
    "#### Data\n",
    "\n",
    "We will use the following data sets: \n",
    "\n",
    "1. A gene expression data set called `exprs_GSE5859.csv` and sample annotation table called `sampleinfo_GSE5859.csv` which are both available on Github in the 2014_data repository: [expression data set](https://github.com/cs109/2014_data/blob/master/exprs_GSE5859.csv) and [sample annotation table](https://github.com/cs109/2014_data/blob/master/sampleinfo_GSE5859.csv).  \n",
    "\n",
    "2. Polls from the [2012 Presidential Election: Barack Obama vs Mitt Romney](http://elections.huffingtonpost.com/pollster/2012-general-election-romney-vs-obama). The polls we will use are from the [Huffington Post Pollster](http://elections.huffingtonpost.com/pollster).  \n",
    "\n",
    "3. Polls from the [2014 Senate Midterm Elections](http://elections.huffingtonpost.com/pollster) from the [HuffPost Pollster API](http://elections.huffingtonpost.com/pollster/api). \n",
    "\n",
    "---"
   ]
  },
  {
   "cell_type": "markdown",
   "metadata": {},
   "source": [
    "## Load Python modules"
   ]
  },
  {
   "cell_type": "code",
   "execution_count": 333,
   "metadata": {
    "collapsed": false
   },
   "outputs": [],
   "source": [
    "# special IPython command to prepare the notebook for matplotlib\n",
    "%matplotlib inline \n",
    "\n",
    "import requests \n",
    "from io import StringIO\n",
    "import numpy as np\n",
    "import pandas as pd # pandas\n",
    "import matplotlib.pyplot as plt # module for plotting \n",
    "import datetime as dt # module for manipulating dates and times\n",
    "import numpy.linalg as lin # module for performing linear algebra operations\n",
    "import scipy as sp"
   ]
  },
  {
   "cell_type": "markdown",
   "metadata": {},
   "source": [
    "## Problem 1\n",
    "\n",
    "In this problem we will be using a [gene expression](http://en.wikipedia.org/wiki/Gene_expression) data set obtained from a [microarray](http://en.wikipedia.org/wiki/DNA_microarray) experiement [Read more about the specific experiment here](http://www.ncbi.nlm.nih.gov/geo/query/acc.cgi?acc=GSE5859).  There are two data sets we will use:  \n",
    "\n",
    "1. The gene expression intensities where the rows represent the features on the microarray (e.g. genes) and the columsns represent the different microarray samples.  \n",
    "\n",
    "2. A table that contains the information about each of the samples (columns in the gene expression data set) such as the sex, the age, the treatment status, the date the samples were processed.  Each row represents one sample. "
   ]
  },
  {
   "cell_type": "markdown",
   "metadata": {},
   "source": [
    "#### Problem 1(a) \n",
    "Read in the two files from Github: [exprs_GSE5859.csv](https://github.com/cs109/2014_data/blob/master/exprs_GSE5859.csv) and [sampleinfo_GSE5859.csv](https://github.com/cs109/2014_data/blob/master/sampleinfo_GSE5859.csv) as pandas DataFrames called `exprs` and `sampleinfo`. Use the gene names as the index of the `exprs` DataFrame."
   ]
  },
  {
   "cell_type": "code",
   "execution_count": 334,
   "metadata": {
    "collapsed": false
   },
   "outputs": [],
   "source": [
    "#your code here\n",
    "dfExprs = pd.read_csv('https://raw.githubusercontent.com/cito125/2014_data/master/exprs_GSE5859.csv')\n",
    "dfSampleInfo = pd.read_csv('https://raw.githubusercontent.com/cs109/2014_data/master/sampleinfo_GSE5859.csv')"
   ]
  },
  {
   "cell_type": "markdown",
   "metadata": {},
   "source": [
    "Make sure the order of the columns in the gene expression DataFrame match the order of file names in the sample annotation DataFrame. If the order of the columns the `exprs` DataFrame do not match the order of the file names in the `sampleinfo` DataFrame, reorder the columns in the `exprs` DataFrame. \n",
    "\n",
    "**Note**: The column names of the gene expression DataFrame are the filenames of the orignal files from which these data were obtained.  \n",
    "\n",
    "**Hint**: The method `list.index(x)` [[read here](https://docs.python.org/3/tutorial/datastructures.html)] can be used to return the index in the list of the first item whose value is x. It is an error if there is no such item. To check if the order of the columns in `exprs` matches the order of the rows in `sampleinfo`, you can check using the method `.all()` on a Boolean or list of Booleans: \n",
    "\n",
    "Example code: `(exprs.columns == sampleinfo.filename).all()`"
   ]
  },
  {
   "cell_type": "code",
   "execution_count": 335,
   "metadata": {
    "collapsed": false,
    "scrolled": true
   },
   "outputs": [],
   "source": [
    "#your code here\n",
    "oldnames = list(dfExprs.columns[1:].values)\n",
    "newnames = list(dfSampleInfo.filename.values)\n",
    "dfExprs[oldnames] = dfExprs[newnames]\n",
    "dfExprs[oldnames] = dfExprs.ix[:,newnames]\n",
    "dfExprs.rename(columns=dict(zip(oldnames,newnames)), inplace=True)"
   ]
  },
  {
   "cell_type": "markdown",
   "metadata": {},
   "source": [
    "Show the head of the two tables: `exprs` and `sampleinfo`. "
   ]
  },
  {
   "cell_type": "code",
   "execution_count": 336,
   "metadata": {
    "collapsed": false
   },
   "outputs": [
    {
     "name": "stdout",
     "output_type": "stream",
     "text": [
      "  ethnicity        date         filename sex\n",
      "0       CEU  2003-02-04  GSM25349.CEL.gz   M\n",
      "1       CEU  2003-02-04  GSM25350.CEL.gz   M\n",
      "2       CEU  2002-12-17  GSM25356.CEL.gz   M\n",
      "3       CEU  2003-01-30  GSM25357.CEL.gz   M\n",
      "4       CEU  2003-01-03  GSM25358.CEL.gz   M\n"
     ]
    },
    {
     "data": {
      "text/html": [
       "<div>\n",
       "<table border=\"1\" class=\"dataframe\">\n",
       "  <thead>\n",
       "    <tr style=\"text-align: right;\">\n",
       "      <th></th>\n",
       "      <th>Unnamed: 0</th>\n",
       "      <th>GSM25349.CEL.gz</th>\n",
       "      <th>GSM25350.CEL.gz</th>\n",
       "      <th>GSM25356.CEL.gz</th>\n",
       "      <th>GSM25357.CEL.gz</th>\n",
       "      <th>GSM25358.CEL.gz</th>\n",
       "      <th>GSM25359.CEL.gz</th>\n",
       "      <th>GSM25360.CEL.gz</th>\n",
       "      <th>GSM25361.CEL.gz</th>\n",
       "      <th>GSM25377.CEL.gz</th>\n",
       "      <th>...</th>\n",
       "      <th>GSM136719.CEL.gz</th>\n",
       "      <th>GSM136720.CEL.gz</th>\n",
       "      <th>GSM136721.CEL.gz</th>\n",
       "      <th>GSM136722.CEL.gz</th>\n",
       "      <th>GSM136723.CEL.gz</th>\n",
       "      <th>GSM136724.CEL.gz</th>\n",
       "      <th>GSM136725.CEL.gz</th>\n",
       "      <th>GSM136726.CEL.gz</th>\n",
       "      <th>GSM136727.CEL.gz</th>\n",
       "      <th>GSM136729.CEL.gz</th>\n",
       "    </tr>\n",
       "  </thead>\n",
       "  <tbody>\n",
       "    <tr>\n",
       "      <th>0</th>\n",
       "      <td>1007_s_at</td>\n",
       "      <td>6.488579</td>\n",
       "      <td>6.406690</td>\n",
       "      <td>6.262668</td>\n",
       "      <td>6.739860</td>\n",
       "      <td>6.406282</td>\n",
       "      <td>6.330306</td>\n",
       "      <td>6.720599</td>\n",
       "      <td>6.494656</td>\n",
       "      <td>6.515313</td>\n",
       "      <td>...</td>\n",
       "      <td>6.602034</td>\n",
       "      <td>5.981000</td>\n",
       "      <td>6.392993</td>\n",
       "      <td>6.473075</td>\n",
       "      <td>6.444051</td>\n",
       "      <td>6.587854</td>\n",
       "      <td>6.155473</td>\n",
       "      <td>6.316140</td>\n",
       "      <td>6.809481</td>\n",
       "      <td>7.083383</td>\n",
       "    </tr>\n",
       "    <tr>\n",
       "      <th>1</th>\n",
       "      <td>1053_at</td>\n",
       "      <td>7.517410</td>\n",
       "      <td>7.504749</td>\n",
       "      <td>6.836493</td>\n",
       "      <td>7.219179</td>\n",
       "      <td>7.005343</td>\n",
       "      <td>7.349447</td>\n",
       "      <td>7.280992</td>\n",
       "      <td>6.583563</td>\n",
       "      <td>7.042064</td>\n",
       "      <td>...</td>\n",
       "      <td>7.151453</td>\n",
       "      <td>7.120923</td>\n",
       "      <td>7.203947</td>\n",
       "      <td>7.090230</td>\n",
       "      <td>7.099125</td>\n",
       "      <td>7.013648</td>\n",
       "      <td>7.111583</td>\n",
       "      <td>7.241489</td>\n",
       "      <td>7.200596</td>\n",
       "      <td>7.438955</td>\n",
       "    </tr>\n",
       "    <tr>\n",
       "      <th>2</th>\n",
       "      <td>117_at</td>\n",
       "      <td>5.247190</td>\n",
       "      <td>5.235257</td>\n",
       "      <td>5.445782</td>\n",
       "      <td>6.196140</td>\n",
       "      <td>5.033863</td>\n",
       "      <td>5.307224</td>\n",
       "      <td>5.347524</td>\n",
       "      <td>5.081738</td>\n",
       "      <td>5.023448</td>\n",
       "      <td>...</td>\n",
       "      <td>6.976564</td>\n",
       "      <td>5.275577</td>\n",
       "      <td>5.735873</td>\n",
       "      <td>5.368685</td>\n",
       "      <td>5.448902</td>\n",
       "      <td>5.643411</td>\n",
       "      <td>5.302628</td>\n",
       "      <td>5.219291</td>\n",
       "      <td>5.237239</td>\n",
       "      <td>5.358183</td>\n",
       "    </tr>\n",
       "    <tr>\n",
       "      <th>3</th>\n",
       "      <td>121_at</td>\n",
       "      <td>7.331864</td>\n",
       "      <td>7.588643</td>\n",
       "      <td>7.333546</td>\n",
       "      <td>7.445286</td>\n",
       "      <td>7.880388</td>\n",
       "      <td>7.634890</td>\n",
       "      <td>7.671745</td>\n",
       "      <td>7.870124</td>\n",
       "      <td>8.004886</td>\n",
       "      <td>...</td>\n",
       "      <td>8.358624</td>\n",
       "      <td>8.001434</td>\n",
       "      <td>8.128941</td>\n",
       "      <td>7.852398</td>\n",
       "      <td>7.638094</td>\n",
       "      <td>7.487405</td>\n",
       "      <td>7.456453</td>\n",
       "      <td>7.244052</td>\n",
       "      <td>7.357102</td>\n",
       "      <td>7.572309</td>\n",
       "    </tr>\n",
       "    <tr>\n",
       "      <th>4</th>\n",
       "      <td>1255_g_at</td>\n",
       "      <td>3.175846</td>\n",
       "      <td>3.228606</td>\n",
       "      <td>3.063602</td>\n",
       "      <td>3.138591</td>\n",
       "      <td>3.399915</td>\n",
       "      <td>3.322923</td>\n",
       "      <td>3.016090</td>\n",
       "      <td>3.396263</td>\n",
       "      <td>3.354950</td>\n",
       "      <td>...</td>\n",
       "      <td>3.323405</td>\n",
       "      <td>3.149710</td>\n",
       "      <td>3.368333</td>\n",
       "      <td>3.177356</td>\n",
       "      <td>3.327960</td>\n",
       "      <td>3.371413</td>\n",
       "      <td>3.090149</td>\n",
       "      <td>3.059999</td>\n",
       "      <td>3.105092</td>\n",
       "      <td>3.115716</td>\n",
       "    </tr>\n",
       "  </tbody>\n",
       "</table>\n",
       "<p>5 rows × 209 columns</p>\n",
       "</div>"
      ],
      "text/plain": [
       "  Unnamed: 0  GSM25349.CEL.gz  GSM25350.CEL.gz  GSM25356.CEL.gz  \\\n",
       "0  1007_s_at         6.488579         6.406690         6.262668   \n",
       "1    1053_at         7.517410         7.504749         6.836493   \n",
       "2     117_at         5.247190         5.235257         5.445782   \n",
       "3     121_at         7.331864         7.588643         7.333546   \n",
       "4  1255_g_at         3.175846         3.228606         3.063602   \n",
       "\n",
       "   GSM25357.CEL.gz  GSM25358.CEL.gz  GSM25359.CEL.gz  GSM25360.CEL.gz  \\\n",
       "0         6.739860         6.406282         6.330306         6.720599   \n",
       "1         7.219179         7.005343         7.349447         7.280992   \n",
       "2         6.196140         5.033863         5.307224         5.347524   \n",
       "3         7.445286         7.880388         7.634890         7.671745   \n",
       "4         3.138591         3.399915         3.322923         3.016090   \n",
       "\n",
       "   GSM25361.CEL.gz  GSM25377.CEL.gz        ...         GSM136719.CEL.gz  \\\n",
       "0         6.494656         6.515313        ...                 6.602034   \n",
       "1         6.583563         7.042064        ...                 7.151453   \n",
       "2         5.081738         5.023448        ...                 6.976564   \n",
       "3         7.870124         8.004886        ...                 8.358624   \n",
       "4         3.396263         3.354950        ...                 3.323405   \n",
       "\n",
       "   GSM136720.CEL.gz  GSM136721.CEL.gz  GSM136722.CEL.gz  GSM136723.CEL.gz  \\\n",
       "0          5.981000          6.392993          6.473075          6.444051   \n",
       "1          7.120923          7.203947          7.090230          7.099125   \n",
       "2          5.275577          5.735873          5.368685          5.448902   \n",
       "3          8.001434          8.128941          7.852398          7.638094   \n",
       "4          3.149710          3.368333          3.177356          3.327960   \n",
       "\n",
       "   GSM136724.CEL.gz  GSM136725.CEL.gz  GSM136726.CEL.gz  GSM136727.CEL.gz  \\\n",
       "0          6.587854          6.155473          6.316140          6.809481   \n",
       "1          7.013648          7.111583          7.241489          7.200596   \n",
       "2          5.643411          5.302628          5.219291          5.237239   \n",
       "3          7.487405          7.456453          7.244052          7.357102   \n",
       "4          3.371413          3.090149          3.059999          3.105092   \n",
       "\n",
       "   GSM136729.CEL.gz  \n",
       "0          7.083383  \n",
       "1          7.438955  \n",
       "2          5.358183  \n",
       "3          7.572309  \n",
       "4          3.115716  \n",
       "\n",
       "[5 rows x 209 columns]"
      ]
     },
     "execution_count": 336,
     "metadata": {},
     "output_type": "execute_result"
    }
   ],
   "source": [
    "#your code here\n",
    "print(dfSampleInfo.head())\n",
    "dfExprs.head()"
   ]
  },
  {
   "cell_type": "markdown",
   "metadata": {},
   "source": [
    "#### Problem 1(b)\n",
    "\n",
    "Extract the year and month as integers from the `sampleinfo` table. \n",
    "\n",
    "**Hint**: To convert a Series or a column of a pandas DataFrame that contains a date-like object, you can use the `to_datetime` function [[read here](http://pandas.pydata.org/pandas-docs/stable/timeseries.html)].  This will create a `DatetimeIndex` which can be used to extract the month and year for each row in the DataFrame. "
   ]
  },
  {
   "cell_type": "code",
   "execution_count": 337,
   "metadata": {
    "collapsed": false
   },
   "outputs": [
    {
     "name": "stdout",
     "output_type": "stream",
     "text": [
      "DatetimeIndex(['2003-02-04', '2003-02-04', '2002-12-17', '2003-01-30',\n",
      "               '2003-01-03', '2003-01-16', '2003-01-03', '2003-02-04',\n",
      "               '2002-12-17', '2002-12-17',\n",
      "               ...\n",
      "               '2006-04-28', '2006-04-28', '2006-04-28', '2006-04-28',\n",
      "               '2006-04-28', '2006-04-28', '2005-02-16', '2005-02-16',\n",
      "               '2005-06-10', '2005-05-13'],\n",
      "              dtype='datetime64[ns]', length=208, freq=None)\n"
     ]
    }
   ],
   "source": [
    "#your code here\n",
    "dateTimeSeriesSampInfo= pd.DatetimeIndex(dfSampleInfo['date'])\n",
    "print(dateTimeSeriesSampInfo)"
   ]
  },
  {
   "cell_type": "markdown",
   "metadata": {},
   "source": [
    "#### Problem 1(c)\n",
    "\n",
    "Convert the dates in the `date` column from the `sampleinfo` table into days since October 31, 2002. Add a column to the `sampleinfo` DataFrame titled `elapsedInDays` containing the days since October 31, 2002.  Show the head of the `sampleinfo` DataFrame which includes the new column.  \n",
    "\n",
    "**Hint**: Use the `datetime` module to create a new `datetime` object for the specific date October 31, 2002. Then, subtract the October 31, 2002 date from each date from the `date` column in the `sampleinfo` DataFrame. "
   ]
  },
  {
   "cell_type": "code",
   "execution_count": 338,
   "metadata": {
    "collapsed": false
   },
   "outputs": [
    {
     "data": {
      "text/html": [
       "<div>\n",
       "<table border=\"1\" class=\"dataframe\">\n",
       "  <thead>\n",
       "    <tr style=\"text-align: right;\">\n",
       "      <th></th>\n",
       "      <th>ethnicity</th>\n",
       "      <th>date</th>\n",
       "      <th>filename</th>\n",
       "      <th>sex</th>\n",
       "      <th>elapsedInDays</th>\n",
       "    </tr>\n",
       "  </thead>\n",
       "  <tbody>\n",
       "    <tr>\n",
       "      <th>0</th>\n",
       "      <td>CEU</td>\n",
       "      <td>2003-02-04</td>\n",
       "      <td>GSM25349.CEL.gz</td>\n",
       "      <td>M</td>\n",
       "      <td>461 days</td>\n",
       "    </tr>\n",
       "    <tr>\n",
       "      <th>1</th>\n",
       "      <td>CEU</td>\n",
       "      <td>2003-02-04</td>\n",
       "      <td>GSM25350.CEL.gz</td>\n",
       "      <td>M</td>\n",
       "      <td>461 days</td>\n",
       "    </tr>\n",
       "    <tr>\n",
       "      <th>2</th>\n",
       "      <td>CEU</td>\n",
       "      <td>2002-12-17</td>\n",
       "      <td>GSM25356.CEL.gz</td>\n",
       "      <td>M</td>\n",
       "      <td>412 days</td>\n",
       "    </tr>\n",
       "    <tr>\n",
       "      <th>3</th>\n",
       "      <td>CEU</td>\n",
       "      <td>2003-01-30</td>\n",
       "      <td>GSM25357.CEL.gz</td>\n",
       "      <td>M</td>\n",
       "      <td>456 days</td>\n",
       "    </tr>\n",
       "    <tr>\n",
       "      <th>4</th>\n",
       "      <td>CEU</td>\n",
       "      <td>2003-01-03</td>\n",
       "      <td>GSM25358.CEL.gz</td>\n",
       "      <td>M</td>\n",
       "      <td>429 days</td>\n",
       "    </tr>\n",
       "  </tbody>\n",
       "</table>\n",
       "</div>"
      ],
      "text/plain": [
       "  ethnicity        date         filename sex  elapsedInDays\n",
       "0       CEU  2003-02-04  GSM25349.CEL.gz   M       461 days\n",
       "1       CEU  2003-02-04  GSM25350.CEL.gz   M       461 days\n",
       "2       CEU  2002-12-17  GSM25356.CEL.gz   M       412 days\n",
       "3       CEU  2003-01-30  GSM25357.CEL.gz   M       456 days\n",
       "4       CEU  2003-01-03  GSM25358.CEL.gz   M       429 days"
      ]
     },
     "execution_count": 338,
     "metadata": {},
     "output_type": "execute_result"
    }
   ],
   "source": [
    "#your code here\n",
    "from datetime import datetime\n",
    "isAfterDateArray = dateTimeSeriesSampInfo>='2002-10-31'\n",
    "a = datetime(2001,10,31,0,0,0)\n",
    "deltaDays = dateTimeSeriesSampInfo- a\n",
    "dfSampleInfo['elapsedInDays']=deltaDays\n",
    "dfSampleInfo.head()"
   ]
  },
  {
   "cell_type": "markdown",
   "metadata": {},
   "source": [
    "#### Problem 1(d)\n",
    "\n",
    "Use exploratory analysis and the singular value decomposition (SVD) of the gene expression data matrix to determine if the date the samples were processed has large effect on the variability seen in the data or if it is just ethnicity (which is confounded with date). \n",
    "\n",
    "**Hint**: See the end of the [lecture from 9/23/2014 for help with SVD](https://github.com/cs109/2014/blob/master/lectures/2014_09_23-lecture/data_scraping_transcript.ipynb)\n",
    "First subset the the `sampleinfo` DataFrame to include only the CEU ethnicity.  Call this new subsetted DataFrame `sampleinfoCEU`.  Show the head of `sampleinfoCEU` DataFrame. "
   ]
  },
  {
   "cell_type": "code",
   "execution_count": 339,
   "metadata": {
    "collapsed": false
   },
   "outputs": [
    {
     "data": {
      "text/html": [
       "<div>\n",
       "<table border=\"1\" class=\"dataframe\">\n",
       "  <thead>\n",
       "    <tr style=\"text-align: right;\">\n",
       "      <th></th>\n",
       "      <th>ethnicity</th>\n",
       "      <th>date</th>\n",
       "      <th>filename</th>\n",
       "      <th>sex</th>\n",
       "      <th>elapsedInDays</th>\n",
       "    </tr>\n",
       "  </thead>\n",
       "  <tbody>\n",
       "    <tr>\n",
       "      <th>0</th>\n",
       "      <td>CEU</td>\n",
       "      <td>2003-02-04</td>\n",
       "      <td>GSM25349.CEL.gz</td>\n",
       "      <td>M</td>\n",
       "      <td>461 days</td>\n",
       "    </tr>\n",
       "    <tr>\n",
       "      <th>1</th>\n",
       "      <td>CEU</td>\n",
       "      <td>2003-02-04</td>\n",
       "      <td>GSM25350.CEL.gz</td>\n",
       "      <td>M</td>\n",
       "      <td>461 days</td>\n",
       "    </tr>\n",
       "    <tr>\n",
       "      <th>2</th>\n",
       "      <td>CEU</td>\n",
       "      <td>2002-12-17</td>\n",
       "      <td>GSM25356.CEL.gz</td>\n",
       "      <td>M</td>\n",
       "      <td>412 days</td>\n",
       "    </tr>\n",
       "    <tr>\n",
       "      <th>3</th>\n",
       "      <td>CEU</td>\n",
       "      <td>2003-01-30</td>\n",
       "      <td>GSM25357.CEL.gz</td>\n",
       "      <td>M</td>\n",
       "      <td>456 days</td>\n",
       "    </tr>\n",
       "    <tr>\n",
       "      <th>4</th>\n",
       "      <td>CEU</td>\n",
       "      <td>2003-01-03</td>\n",
       "      <td>GSM25358.CEL.gz</td>\n",
       "      <td>M</td>\n",
       "      <td>429 days</td>\n",
       "    </tr>\n",
       "  </tbody>\n",
       "</table>\n",
       "</div>"
      ],
      "text/plain": [
       "  ethnicity        date         filename sex  elapsedInDays\n",
       "0       CEU  2003-02-04  GSM25349.CEL.gz   M       461 days\n",
       "1       CEU  2003-02-04  GSM25350.CEL.gz   M       461 days\n",
       "2       CEU  2002-12-17  GSM25356.CEL.gz   M       412 days\n",
       "3       CEU  2003-01-30  GSM25357.CEL.gz   M       456 days\n",
       "4       CEU  2003-01-03  GSM25358.CEL.gz   M       429 days"
      ]
     },
     "execution_count": 339,
     "metadata": {},
     "output_type": "execute_result"
    }
   ],
   "source": [
    "#your code here\n",
    "dfCEU = dfSampleInfo.groupby(dfSampleInfo['ethnicity'])\n",
    "dfCEU = dfCEU.get_group('CEU')\n",
    "dfCEU.head()"
   ]
  },
  {
   "cell_type": "markdown",
   "metadata": {},
   "source": [
    "Next, subset the `exprs` DataFrame to only include the samples with the CEU ethnicity. Name this new subsetted DataFrame `exprsCEU`. Show the head of the `exprsCEU` DataFrame. "
   ]
  },
  {
   "cell_type": "code",
   "execution_count": 340,
   "metadata": {
    "collapsed": false
   },
   "outputs": [
    {
     "data": {
      "text/html": [
       "<div>\n",
       "<table border=\"1\" class=\"dataframe\">\n",
       "  <thead>\n",
       "    <tr style=\"text-align: right;\">\n",
       "      <th></th>\n",
       "      <th>GSM25349.CEL.gz</th>\n",
       "      <th>GSM25350.CEL.gz</th>\n",
       "      <th>GSM25356.CEL.gz</th>\n",
       "      <th>GSM25357.CEL.gz</th>\n",
       "      <th>GSM25358.CEL.gz</th>\n",
       "      <th>GSM25359.CEL.gz</th>\n",
       "      <th>GSM25360.CEL.gz</th>\n",
       "      <th>GSM25361.CEL.gz</th>\n",
       "      <th>GSM25377.CEL.gz</th>\n",
       "      <th>GSM25378.CEL.gz</th>\n",
       "      <th>...</th>\n",
       "      <th>GSM48658.CEL.gz</th>\n",
       "      <th>GSM48660.CEL.gz</th>\n",
       "      <th>GSM48661.CEL.gz</th>\n",
       "      <th>GSM48662.CEL.gz</th>\n",
       "      <th>GSM48663.CEL.gz</th>\n",
       "      <th>GSM48664.CEL.gz</th>\n",
       "      <th>GSM48665.CEL.gz</th>\n",
       "      <th>GSM136725.CEL.gz</th>\n",
       "      <th>GSM136726.CEL.gz</th>\n",
       "      <th>GSM136727.CEL.gz</th>\n",
       "    </tr>\n",
       "  </thead>\n",
       "  <tbody>\n",
       "    <tr>\n",
       "      <th>0</th>\n",
       "      <td>6.48858</td>\n",
       "      <td>6.40669</td>\n",
       "      <td>6.26267</td>\n",
       "      <td>6.73986</td>\n",
       "      <td>6.40628</td>\n",
       "      <td>6.33031</td>\n",
       "      <td>6.7206</td>\n",
       "      <td>6.49466</td>\n",
       "      <td>6.51531</td>\n",
       "      <td>6.25555</td>\n",
       "      <td>...</td>\n",
       "      <td>6.50205</td>\n",
       "      <td>6.25075</td>\n",
       "      <td>6.15675</td>\n",
       "      <td>6.33157</td>\n",
       "      <td>5.67886</td>\n",
       "      <td>6.86005</td>\n",
       "      <td>6.67159</td>\n",
       "      <td>6.15547</td>\n",
       "      <td>6.31614</td>\n",
       "      <td>6.80948</td>\n",
       "    </tr>\n",
       "    <tr>\n",
       "      <th>1</th>\n",
       "      <td>7.51741</td>\n",
       "      <td>7.50475</td>\n",
       "      <td>6.83649</td>\n",
       "      <td>7.21918</td>\n",
       "      <td>7.00534</td>\n",
       "      <td>7.34945</td>\n",
       "      <td>7.28099</td>\n",
       "      <td>6.58356</td>\n",
       "      <td>7.04206</td>\n",
       "      <td>7.17477</td>\n",
       "      <td>...</td>\n",
       "      <td>7.30221</td>\n",
       "      <td>6.79735</td>\n",
       "      <td>7.49197</td>\n",
       "      <td>7.45651</td>\n",
       "      <td>7.14021</td>\n",
       "      <td>7.16854</td>\n",
       "      <td>6.94191</td>\n",
       "      <td>7.11158</td>\n",
       "      <td>7.24149</td>\n",
       "      <td>7.2006</td>\n",
       "    </tr>\n",
       "    <tr>\n",
       "      <th>2</th>\n",
       "      <td>5.24719</td>\n",
       "      <td>5.23526</td>\n",
       "      <td>5.44578</td>\n",
       "      <td>6.19614</td>\n",
       "      <td>5.03386</td>\n",
       "      <td>5.30722</td>\n",
       "      <td>5.34752</td>\n",
       "      <td>5.08174</td>\n",
       "      <td>5.02345</td>\n",
       "      <td>5.23716</td>\n",
       "      <td>...</td>\n",
       "      <td>5.39509</td>\n",
       "      <td>5.87796</td>\n",
       "      <td>5.03939</td>\n",
       "      <td>5.28053</td>\n",
       "      <td>5.77809</td>\n",
       "      <td>4.99207</td>\n",
       "      <td>5.25047</td>\n",
       "      <td>5.30263</td>\n",
       "      <td>5.21929</td>\n",
       "      <td>5.23724</td>\n",
       "    </tr>\n",
       "    <tr>\n",
       "      <th>3</th>\n",
       "      <td>7.33186</td>\n",
       "      <td>7.58864</td>\n",
       "      <td>7.33355</td>\n",
       "      <td>7.44529</td>\n",
       "      <td>7.88039</td>\n",
       "      <td>7.63489</td>\n",
       "      <td>7.67174</td>\n",
       "      <td>7.87012</td>\n",
       "      <td>8.00489</td>\n",
       "      <td>7.57481</td>\n",
       "      <td>...</td>\n",
       "      <td>7.99373</td>\n",
       "      <td>7.13545</td>\n",
       "      <td>7.54367</td>\n",
       "      <td>7.63295</td>\n",
       "      <td>7.63621</td>\n",
       "      <td>7.78105</td>\n",
       "      <td>8.02139</td>\n",
       "      <td>7.45645</td>\n",
       "      <td>7.24405</td>\n",
       "      <td>7.3571</td>\n",
       "    </tr>\n",
       "    <tr>\n",
       "      <th>4</th>\n",
       "      <td>3.17585</td>\n",
       "      <td>3.22861</td>\n",
       "      <td>3.0636</td>\n",
       "      <td>3.13859</td>\n",
       "      <td>3.39992</td>\n",
       "      <td>3.32292</td>\n",
       "      <td>3.01609</td>\n",
       "      <td>3.39626</td>\n",
       "      <td>3.35495</td>\n",
       "      <td>3.2083</td>\n",
       "      <td>...</td>\n",
       "      <td>3.44019</td>\n",
       "      <td>3.08086</td>\n",
       "      <td>3.12827</td>\n",
       "      <td>3.18509</td>\n",
       "      <td>3.03038</td>\n",
       "      <td>3.36872</td>\n",
       "      <td>3.35113</td>\n",
       "      <td>3.09015</td>\n",
       "      <td>3.06</td>\n",
       "      <td>3.10509</td>\n",
       "    </tr>\n",
       "  </tbody>\n",
       "</table>\n",
       "<p>5 rows × 102 columns</p>\n",
       "</div>"
      ],
      "text/plain": [
       "  GSM25349.CEL.gz GSM25350.CEL.gz GSM25356.CEL.gz GSM25357.CEL.gz  \\\n",
       "0         6.48858         6.40669         6.26267         6.73986   \n",
       "1         7.51741         7.50475         6.83649         7.21918   \n",
       "2         5.24719         5.23526         5.44578         6.19614   \n",
       "3         7.33186         7.58864         7.33355         7.44529   \n",
       "4         3.17585         3.22861          3.0636         3.13859   \n",
       "\n",
       "  GSM25358.CEL.gz GSM25359.CEL.gz GSM25360.CEL.gz GSM25361.CEL.gz  \\\n",
       "0         6.40628         6.33031          6.7206         6.49466   \n",
       "1         7.00534         7.34945         7.28099         6.58356   \n",
       "2         5.03386         5.30722         5.34752         5.08174   \n",
       "3         7.88039         7.63489         7.67174         7.87012   \n",
       "4         3.39992         3.32292         3.01609         3.39626   \n",
       "\n",
       "  GSM25377.CEL.gz GSM25378.CEL.gz       ...        GSM48658.CEL.gz  \\\n",
       "0         6.51531         6.25555       ...                6.50205   \n",
       "1         7.04206         7.17477       ...                7.30221   \n",
       "2         5.02345         5.23716       ...                5.39509   \n",
       "3         8.00489         7.57481       ...                7.99373   \n",
       "4         3.35495          3.2083       ...                3.44019   \n",
       "\n",
       "  GSM48660.CEL.gz GSM48661.CEL.gz GSM48662.CEL.gz GSM48663.CEL.gz  \\\n",
       "0         6.25075         6.15675         6.33157         5.67886   \n",
       "1         6.79735         7.49197         7.45651         7.14021   \n",
       "2         5.87796         5.03939         5.28053         5.77809   \n",
       "3         7.13545         7.54367         7.63295         7.63621   \n",
       "4         3.08086         3.12827         3.18509         3.03038   \n",
       "\n",
       "  GSM48664.CEL.gz GSM48665.CEL.gz GSM136725.CEL.gz GSM136726.CEL.gz  \\\n",
       "0         6.86005         6.67159          6.15547          6.31614   \n",
       "1         7.16854         6.94191          7.11158          7.24149   \n",
       "2         4.99207         5.25047          5.30263          5.21929   \n",
       "3         7.78105         8.02139          7.45645          7.24405   \n",
       "4         3.36872         3.35113          3.09015             3.06   \n",
       "\n",
       "  GSM136727.CEL.gz  \n",
       "0          6.80948  \n",
       "1           7.2006  \n",
       "2          5.23724  \n",
       "3           7.3571  \n",
       "4          3.10509  \n",
       "\n",
       "[5 rows x 102 columns]"
      ]
     },
     "execution_count": 340,
     "metadata": {},
     "output_type": "execute_result"
    }
   ],
   "source": [
    "#your code here\n",
    "dfexpresCEU = pd.DataFrame()\n",
    "def addToExpresCeu(columnName,column):\n",
    "    dfexpresCEU[columnName] = column\n",
    "dfExprs.apply(lambda gene: addToExpresCeu(gene.name,gene) if any(dfCEU.filename == gene.name) else None)\n",
    "dfexpresCEU.head()"
   ]
  },
  {
   "cell_type": "markdown",
   "metadata": {},
   "source": [
    "Check to make sure the order of the columns in the `exprsCEU` DataFrame matches the rows in the `sampleinfoCEU` DataFrame.  "
   ]
  },
  {
   "cell_type": "code",
   "execution_count": 341,
   "metadata": {
    "collapsed": false
   },
   "outputs": [
    {
     "name": "stdout",
     "output_type": "stream",
     "text": [
      "True\n"
     ]
    }
   ],
   "source": [
    "#your code here\n",
    "print(dfCEU.filename in dfexpresCEU.columns.values)"
   ]
  },
  {
   "cell_type": "markdown",
   "metadata": {},
   "source": [
    "Compute the average gene expression intensity in the `exprsCEU` DataFrame across all the samples. For each sample in the `exprsCEU` DataFrame, subtract the average gene expression intensity from each of the samples. Show the head of the mean normalized gene expression data.  "
   ]
  },
  {
   "cell_type": "code",
   "execution_count": 342,
   "metadata": {
    "collapsed": false
   },
   "outputs": [
    {
     "data": {
      "text/html": [
       "<div>\n",
       "<table border=\"1\" class=\"dataframe\">\n",
       "  <thead>\n",
       "    <tr style=\"text-align: right;\">\n",
       "      <th></th>\n",
       "      <th>GSM25349.CEL.gz</th>\n",
       "      <th>GSM25350.CEL.gz</th>\n",
       "      <th>GSM25356.CEL.gz</th>\n",
       "      <th>GSM25357.CEL.gz</th>\n",
       "      <th>GSM25358.CEL.gz</th>\n",
       "      <th>GSM25359.CEL.gz</th>\n",
       "      <th>GSM25360.CEL.gz</th>\n",
       "      <th>GSM25361.CEL.gz</th>\n",
       "      <th>GSM25377.CEL.gz</th>\n",
       "      <th>GSM25378.CEL.gz</th>\n",
       "      <th>...</th>\n",
       "      <th>GSM48658.CEL.gz</th>\n",
       "      <th>GSM48660.CEL.gz</th>\n",
       "      <th>GSM48661.CEL.gz</th>\n",
       "      <th>GSM48662.CEL.gz</th>\n",
       "      <th>GSM48663.CEL.gz</th>\n",
       "      <th>GSM48664.CEL.gz</th>\n",
       "      <th>GSM48665.CEL.gz</th>\n",
       "      <th>GSM136725.CEL.gz</th>\n",
       "      <th>GSM136726.CEL.gz</th>\n",
       "      <th>GSM136727.CEL.gz</th>\n",
       "    </tr>\n",
       "  </thead>\n",
       "  <tbody>\n",
       "    <tr>\n",
       "      <th>0</th>\n",
       "      <td>0.744457</td>\n",
       "      <td>0.675387</td>\n",
       "      <td>0.556312</td>\n",
       "      <td>1.013502</td>\n",
       "      <td>0.658806</td>\n",
       "      <td>0.591146</td>\n",
       "      <td>1.004875</td>\n",
       "      <td>0.755063</td>\n",
       "      <td>0.772414</td>\n",
       "      <td>0.519784</td>\n",
       "      <td>...</td>\n",
       "      <td>0.755724</td>\n",
       "      <td>0.552312</td>\n",
       "      <td>0.430455</td>\n",
       "      <td>0.600990</td>\n",
       "      <td>-0.018909</td>\n",
       "      <td>1.122332</td>\n",
       "      <td>0.929729</td>\n",
       "      <td>0.426852</td>\n",
       "      <td>0.590963</td>\n",
       "      <td>1.075995</td>\n",
       "    </tr>\n",
       "    <tr>\n",
       "      <th>1</th>\n",
       "      <td>1.773287</td>\n",
       "      <td>1.773447</td>\n",
       "      <td>1.130136</td>\n",
       "      <td>1.492822</td>\n",
       "      <td>1.257868</td>\n",
       "      <td>1.610287</td>\n",
       "      <td>1.565269</td>\n",
       "      <td>0.843970</td>\n",
       "      <td>1.299165</td>\n",
       "      <td>1.439003</td>\n",
       "      <td>...</td>\n",
       "      <td>1.555881</td>\n",
       "      <td>1.098919</td>\n",
       "      <td>1.765668</td>\n",
       "      <td>1.725931</td>\n",
       "      <td>1.442436</td>\n",
       "      <td>1.430820</td>\n",
       "      <td>1.200049</td>\n",
       "      <td>1.382962</td>\n",
       "      <td>1.516313</td>\n",
       "      <td>1.467110</td>\n",
       "    </tr>\n",
       "    <tr>\n",
       "      <th>2</th>\n",
       "      <td>-0.496932</td>\n",
       "      <td>-0.496045</td>\n",
       "      <td>-0.260575</td>\n",
       "      <td>0.469782</td>\n",
       "      <td>-0.713612</td>\n",
       "      <td>-0.431935</td>\n",
       "      <td>-0.368200</td>\n",
       "      <td>-0.657855</td>\n",
       "      <td>-0.719451</td>\n",
       "      <td>-0.498606</td>\n",
       "      <td>...</td>\n",
       "      <td>-0.351240</td>\n",
       "      <td>0.179522</td>\n",
       "      <td>-0.686912</td>\n",
       "      <td>-0.450043</td>\n",
       "      <td>0.080320</td>\n",
       "      <td>-0.745657</td>\n",
       "      <td>-0.491389</td>\n",
       "      <td>-0.425993</td>\n",
       "      <td>-0.505886</td>\n",
       "      <td>-0.496247</td>\n",
       "    </tr>\n",
       "    <tr>\n",
       "      <th>3</th>\n",
       "      <td>1.587741</td>\n",
       "      <td>1.857341</td>\n",
       "      <td>1.627190</td>\n",
       "      <td>1.718928</td>\n",
       "      <td>2.132913</td>\n",
       "      <td>1.895730</td>\n",
       "      <td>1.956021</td>\n",
       "      <td>2.130531</td>\n",
       "      <td>2.261987</td>\n",
       "      <td>1.839047</td>\n",
       "      <td>...</td>\n",
       "      <td>2.247404</td>\n",
       "      <td>1.437018</td>\n",
       "      <td>1.817367</td>\n",
       "      <td>1.902369</td>\n",
       "      <td>1.938442</td>\n",
       "      <td>2.043332</td>\n",
       "      <td>2.279529</td>\n",
       "      <td>1.727832</td>\n",
       "      <td>1.518875</td>\n",
       "      <td>1.623616</td>\n",
       "    </tr>\n",
       "    <tr>\n",
       "      <th>4</th>\n",
       "      <td>-2.568276</td>\n",
       "      <td>-2.502697</td>\n",
       "      <td>-2.642754</td>\n",
       "      <td>-2.587767</td>\n",
       "      <td>-2.347560</td>\n",
       "      <td>-2.416237</td>\n",
       "      <td>-2.699634</td>\n",
       "      <td>-2.343330</td>\n",
       "      <td>-2.387949</td>\n",
       "      <td>-2.527462</td>\n",
       "      <td>...</td>\n",
       "      <td>-2.306141</td>\n",
       "      <td>-2.617577</td>\n",
       "      <td>-2.598031</td>\n",
       "      <td>-2.545488</td>\n",
       "      <td>-2.667394</td>\n",
       "      <td>-2.368999</td>\n",
       "      <td>-2.390734</td>\n",
       "      <td>-2.638472</td>\n",
       "      <td>-2.665177</td>\n",
       "      <td>-2.628394</td>\n",
       "    </tr>\n",
       "  </tbody>\n",
       "</table>\n",
       "<p>5 rows × 102 columns</p>\n",
       "</div>"
      ],
      "text/plain": [
       "   GSM25349.CEL.gz  GSM25350.CEL.gz  GSM25356.CEL.gz  GSM25357.CEL.gz  \\\n",
       "0         0.744457         0.675387         0.556312         1.013502   \n",
       "1         1.773287         1.773447         1.130136         1.492822   \n",
       "2        -0.496932        -0.496045        -0.260575         0.469782   \n",
       "3         1.587741         1.857341         1.627190         1.718928   \n",
       "4        -2.568276        -2.502697        -2.642754        -2.587767   \n",
       "\n",
       "   GSM25358.CEL.gz  GSM25359.CEL.gz  GSM25360.CEL.gz  GSM25361.CEL.gz  \\\n",
       "0         0.658806         0.591146         1.004875         0.755063   \n",
       "1         1.257868         1.610287         1.565269         0.843970   \n",
       "2        -0.713612        -0.431935        -0.368200        -0.657855   \n",
       "3         2.132913         1.895730         1.956021         2.130531   \n",
       "4        -2.347560        -2.416237        -2.699634        -2.343330   \n",
       "\n",
       "   GSM25377.CEL.gz  GSM25378.CEL.gz        ...         GSM48658.CEL.gz  \\\n",
       "0         0.772414         0.519784        ...                0.755724   \n",
       "1         1.299165         1.439003        ...                1.555881   \n",
       "2        -0.719451        -0.498606        ...               -0.351240   \n",
       "3         2.261987         1.839047        ...                2.247404   \n",
       "4        -2.387949        -2.527462        ...               -2.306141   \n",
       "\n",
       "   GSM48660.CEL.gz  GSM48661.CEL.gz  GSM48662.CEL.gz  GSM48663.CEL.gz  \\\n",
       "0         0.552312         0.430455         0.600990        -0.018909   \n",
       "1         1.098919         1.765668         1.725931         1.442436   \n",
       "2         0.179522        -0.686912        -0.450043         0.080320   \n",
       "3         1.437018         1.817367         1.902369         1.938442   \n",
       "4        -2.617577        -2.598031        -2.545488        -2.667394   \n",
       "\n",
       "   GSM48664.CEL.gz  GSM48665.CEL.gz  GSM136725.CEL.gz  GSM136726.CEL.gz  \\\n",
       "0         1.122332         0.929729          0.426852          0.590963   \n",
       "1         1.430820         1.200049          1.382962          1.516313   \n",
       "2        -0.745657        -0.491389         -0.425993         -0.505886   \n",
       "3         2.043332         2.279529          1.727832          1.518875   \n",
       "4        -2.368999        -2.390734         -2.638472         -2.665177   \n",
       "\n",
       "   GSM136727.CEL.gz  \n",
       "0          1.075995  \n",
       "1          1.467110  \n",
       "2         -0.496247  \n",
       "3          1.623616  \n",
       "4         -2.628394  \n",
       "\n",
       "[5 rows x 102 columns]"
      ]
     },
     "execution_count": 342,
     "metadata": {},
     "output_type": "execute_result"
    }
   ],
   "source": [
    "#your code here\n",
    "dfexpresCEU = dfexpresCEU.apply(lambda gene: (gene - gene.mean()))\n",
    "dfexpresCEU.head()"
   ]
  },
  {
   "cell_type": "markdown",
   "metadata": {},
   "source": [
    "Using this mean normalized gene expression data, compute the projection to the first Principal Component (PC1).  \n",
    "\n",
    "**Hint**: Use the `numpy.linalg.svd()` function in the `numpy.linalg` module (or the `scipy.linalg.svd()` function in the `scipy.linalg` module) to apply an [singular value decomposition](http://en.wikipedia.org/wiki/Singular_value_decomposition) to a matrix.  "
   ]
  },
  {
   "cell_type": "code",
   "execution_count": 360,
   "metadata": {
    "collapsed": false
   },
   "outputs": [
    {
     "name": "stdout",
     "output_type": "stream",
     "text": [
      "102\n",
      "(102, 1)\n"
     ]
    }
   ],
   "source": [
    "#your code here\n",
    "V, s, U = np.linalg.svd(dfexpresCEU, full_matrices=False)\n",
    "proj = np.dot(U, S[:,:1])\n",
    "print(len(dfCEU))\n",
    "print(proj.shape)"
   ]
  },
  {
   "cell_type": "markdown",
   "metadata": {},
   "source": [
    "Create a histogram using the values from PC1.  Use a bin size of 25.  "
   ]
  },
  {
   "cell_type": "code",
   "execution_count": 344,
   "metadata": {
    "collapsed": false
   },
   "outputs": [
    {
     "data": {
      "text/plain": [
       "(array([  1.,   0.,   1.,   1.,   1.,   5.,   3.,   6.,   4.,   8.,   7.,\n",
       "          9.,   9.,  11.,   6.,   5.,   7.,   2.,   3.,   0.,   3.,   3.,\n",
       "          3.,   2.,   2.]),\n",
       " array([-443.34085734, -406.76764132, -370.1944253 , -333.62120928,\n",
       "        -297.04799326, -260.47477724, -223.90156122, -187.3283452 ,\n",
       "        -150.75512918, -114.18191316,  -77.60869714,  -41.03548112,\n",
       "          -4.4622651 ,   32.11095092,   68.68416694,  105.25738296,\n",
       "         141.83059898,  178.403815  ,  214.97703102,  251.55024704,\n",
       "         288.12346306,  324.69667908,  361.2698951 ,  397.84311112,\n",
       "         434.41632714,  470.98954316]),\n",
       " <a list of 25 Patch objects>)"
      ]
     },
     "execution_count": 344,
     "metadata": {},
     "output_type": "execute_result"
    },
    {
     "data": {
      "image/png": "[encoded data removed]",
      "text/plain": [
       "<matplotlib.figure.Figure at 0x1282bb278>"
      ]
     },
     "metadata": {},
     "output_type": "display_data"
    }
   ],
   "source": [
    "#your code here\n",
    "plt.hist(proj,25,facecolor = 'g')"
   ]
  },
  {
   "cell_type": "markdown",
   "metadata": {},
   "source": [
    "Create a scatter plot with the days since October 31, 2002 on the x-axis and PC1 on the y-axis."
   ]
  },
  {
   "cell_type": "code",
   "execution_count": 375,
   "metadata": {
    "collapsed": false
   },
   "outputs": [
    {
     "data": {
      "image/png": "[encoded data removed]",
      "text/plain": [
       "<matplotlib.figure.Figure at 0x1177bb630>"
      ]
     },
     "metadata": {},
     "output_type": "display_data"
    }
   ],
   "source": [
    "#your code here\n",
    "#plt.scatter(dfCEU.date, proj)\n",
    "dateAfterOct= pd.DatetimeIndex(dfCEU['date'])\n",
    "fig = plt.figure()\n",
    "ax = fig.add_subplot(111)\n",
    "plt.scatter(dateAfterOct,proj)\n",
    "fig.autofmt_xdate()"
   ]
  },
  {
   "cell_type": "markdown",
   "metadata": {},
   "source": [
    "Around what day do you notice a difference in the way the samples were processed?"
   ]
  },
  {
   "cell_type": "code",
   "execution_count": 13,
   "metadata": {
    "collapsed": false
   },
   "outputs": [],
   "source": [
    "#your code here"
   ]
  },
  {
   "cell_type": "markdown",
   "metadata": {},
   "source": [
    "Answer:"
   ]
  },
  {
   "cell_type": "markdown",
   "metadata": {},
   "source": [
    "## Discussion for Problem 1\n",
    "\n",
    "*Write a brief discussion of your conclusions to the questions and tasks above in 100 words or less.*\n",
    "\n",
    "---\n"
   ]
  },
  {
   "cell_type": "markdown",
   "metadata": {},
   "source": [
    "# Submission Instructions\n",
    "\n",
    "To submit your homework, create a folder named **lastname_firstinitial_hw#** and place your IPython notebooks, data files, and any other files in this folder. Your IPython Notebooks should be completely executed with the results visible in the notebook. We should not have to run any code. Make sure to share the private repo with my github account (mdog) and submit the repo path through blackboard.\n"
   ]
  },
  {
   "cell_type": "code",
   "execution_count": null,
   "metadata": {
    "collapsed": false
   },
   "outputs": [],
   "source": []
  }
 ],
 "metadata": {
  "anaconda-cloud": {},
  "kernelspec": {
   "display_name": "Python [Root]",
   "language": "python",
   "name": "Python [Root]"
  },
  "language_info": {
   "codemirror_mode": {
    "name": "ipython",
    "version": 3
   },
   "file_extension": ".py",
   "mimetype": "text/x-python",
   "name": "python",
   "nbconvert_exporter": "python",
   "pygments_lexer": "ipython3",
   "version": "3.5.2"
  },
  "widgets": {
   "state": {},
   "version": "1.1.2"
  }
 },
 "nbformat": 4,
 "nbformat_minor": 0
}
